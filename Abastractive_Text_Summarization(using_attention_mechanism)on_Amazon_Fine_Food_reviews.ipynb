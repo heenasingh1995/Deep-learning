{
  "nbformat": 4,
  "nbformat_minor": 0,
  "metadata": {
    "colab": {
      "name": "Abastractive Text Summarization(using attention mechanism)on Amazon Fine Food reviews.ipynb",
      "provenance": [],
      "collapsed_sections": [
        "e33CBaN_uEJl",
        "6zFTtVuouQsr",
        "qnaqBst1xN-9",
        "QvZQsH0QxqS0",
        "rz82XhceyK7k",
        "TWLuSyINzV9R",
        "KcHCsQodzhUK",
        "3hHwBeXd0qlv",
        "o_LrKnvv3EXB"
      ]
    },
    "kernelspec": {
      "name": "python3",
      "display_name": "Python 3"
    }
  },
  "cells": [
    {
      "cell_type": "markdown",
      "metadata": {
        "id": "cxPPLwXl31y-",
        "colab_type": "text"
      },
      "source": [
        "#  Objective: To generate a summary for the Amazon Fine Food reviews using the abstraction-based (attention) approach."
      ]
    },
    {
      "cell_type": "markdown",
      "metadata": {
        "id": "S_-ZHZPH4Qun",
        "colab_type": "text"
      },
      "source": [
        "# 1.Import the Libraries:"
      ]
    },
    {
      "cell_type": "code",
      "metadata": {
        "id": "tuhZqK7g3Buh",
        "colab_type": "code",
        "colab": {}
      },
      "source": [
        "import numpy as np  \n",
        "import pandas as pd \n",
        "import re           \n",
        "from bs4 import BeautifulSoup \n",
        "from keras.preprocessing.text import Tokenizer \n",
        "from keras.preprocessing.sequence import pad_sequences\n",
        "from nltk.corpus import stopwords   \n",
        "from tensorflow.keras.layers import Input, LSTM, Embedding, Dense, Concatenate, TimeDistributed, Bidirectional\n",
        "from tensorflow.keras.models import Model\n",
        "from tensorflow.keras.callbacks import EarlyStopping\n",
        "import warnings\n",
        "pd.set_option(\"display.max_colwidth\", 200)\n",
        "warnings.filterwarnings(\"ignore\")"
      ],
      "execution_count": 0,
      "outputs": []
    },
    {
      "cell_type": "markdown",
      "metadata": {
        "id": "esPBZgea4mjp",
        "colab_type": "text"
      },
      "source": [
        "# 2.Read the dataset\n"
      ]
    },
    {
      "cell_type": "code",
      "metadata": {
        "id": "qsAk1eix4gpP",
        "colab_type": "code",
        "colab": {}
      },
      "source": [
        "data=pd.read_csv(\"/content/drive/My Drive/amazon.csv\")\n"
      ],
      "execution_count": 0,
      "outputs": []
    },
    {
      "cell_type": "code",
      "metadata": {
        "id": "Llgyf6iG5NQu",
        "colab_type": "code",
        "outputId": "03e2a486-c6f7-4935-b27c-d74196766939",
        "colab": {
          "base_uri": "https://localhost:8080/",
          "height": 34
        }
      },
      "source": [
        "data.shape"
      ],
      "execution_count": 0,
      "outputs": [
        {
          "output_type": "execute_result",
          "data": {
            "text/plain": [
              "(4986, 11)"
            ]
          },
          "metadata": {
            "tags": []
          },
          "execution_count": 11
        }
      ]
    },
    {
      "cell_type": "code",
      "metadata": {
        "id": "RcMx1a9P7Im9",
        "colab_type": "code",
        "outputId": "23abca5b-0677-45ec-ee1e-7764537cd29b",
        "colab": {
          "base_uri": "https://localhost:8080/",
          "height": 632
        }
      },
      "source": [
        "data.head()"
      ],
      "execution_count": 0,
      "outputs": [
        {
          "output_type": "execute_result",
          "data": {
            "text/html": [
              "<div>\n",
              "<style scoped>\n",
              "    .dataframe tbody tr th:only-of-type {\n",
              "        vertical-align: middle;\n",
              "    }\n",
              "\n",
              "    .dataframe tbody tr th {\n",
              "        vertical-align: top;\n",
              "    }\n",
              "\n",
              "    .dataframe thead th {\n",
              "        text-align: right;\n",
              "    }\n",
              "</style>\n",
              "<table border=\"1\" class=\"dataframe\">\n",
              "  <thead>\n",
              "    <tr style=\"text-align: right;\">\n",
              "      <th></th>\n",
              "      <th>Unnamed: 0</th>\n",
              "      <th>Id</th>\n",
              "      <th>ProductId</th>\n",
              "      <th>UserId</th>\n",
              "      <th>ProfileName</th>\n",
              "      <th>HelpfulnessNumerator</th>\n",
              "      <th>HelpfulnessDenominator</th>\n",
              "      <th>Score</th>\n",
              "      <th>Time</th>\n",
              "      <th>Summary</th>\n",
              "      <th>Text</th>\n",
              "    </tr>\n",
              "  </thead>\n",
              "  <tbody>\n",
              "    <tr>\n",
              "      <th>0</th>\n",
              "      <td>2546</td>\n",
              "      <td>2774</td>\n",
              "      <td>B00002NCJC</td>\n",
              "      <td>A196AJHU9EASJN</td>\n",
              "      <td>Alex Chaffee</td>\n",
              "      <td>0</td>\n",
              "      <td>0</td>\n",
              "      <td>1</td>\n",
              "      <td>1282953600</td>\n",
              "      <td>thirty bucks?</td>\n",
              "      <td>Why is this $[...] when the same product is available for $[...] here?&lt;br /&gt;http://www.amazon.com/VICTOR-FLY-MAGNET-BAIT-REFILL/dp/B00004RBDY&lt;br /&gt;&lt;br /&gt;The Victor M380 and M502 traps are unreal, ...</td>\n",
              "    </tr>\n",
              "    <tr>\n",
              "      <th>1</th>\n",
              "      <td>2547</td>\n",
              "      <td>2775</td>\n",
              "      <td>B00002NCJC</td>\n",
              "      <td>A13RRPGE79XFFH</td>\n",
              "      <td>reader48</td>\n",
              "      <td>0</td>\n",
              "      <td>0</td>\n",
              "      <td>1</td>\n",
              "      <td>1281052800</td>\n",
              "      <td>Flies Begone</td>\n",
              "      <td>We have used the Victor fly bait for 3 seasons.  Can't beat it.  Great product!</td>\n",
              "    </tr>\n",
              "    <tr>\n",
              "      <th>2</th>\n",
              "      <td>1145</td>\n",
              "      <td>1244</td>\n",
              "      <td>B00002Z754</td>\n",
              "      <td>A3B8RCEI0FXFI6</td>\n",
              "      <td>B G Chase</td>\n",
              "      <td>10</td>\n",
              "      <td>10</td>\n",
              "      <td>1</td>\n",
              "      <td>962236800</td>\n",
              "      <td>WOW Make your own 'slickers' !</td>\n",
              "      <td>I just received my shipment and could hardly wait to try this product. We love &amp;quot;slickers&amp;quot; which is what we call them, instead of stickers because they can be removed so easily. My daught...</td>\n",
              "    </tr>\n",
              "    <tr>\n",
              "      <th>3</th>\n",
              "      <td>1146</td>\n",
              "      <td>1245</td>\n",
              "      <td>B00002Z754</td>\n",
              "      <td>A29Z5PI9BW2PU3</td>\n",
              "      <td>Robbie</td>\n",
              "      <td>7</td>\n",
              "      <td>7</td>\n",
              "      <td>1</td>\n",
              "      <td>961718400</td>\n",
              "      <td>Great Product</td>\n",
              "      <td>This was a really good idea and the final product is outstanding. I use the decals on my car window and everybody asks where i bought the decals i made.  Two thumbs up!</td>\n",
              "    </tr>\n",
              "    <tr>\n",
              "      <th>4</th>\n",
              "      <td>2942</td>\n",
              "      <td>3204</td>\n",
              "      <td>B000084DVR</td>\n",
              "      <td>A1UGDJP1ZJWVPF</td>\n",
              "      <td>T. Moore \"thoughtful reader\"</td>\n",
              "      <td>1</td>\n",
              "      <td>1</td>\n",
              "      <td>1</td>\n",
              "      <td>1177977600</td>\n",
              "      <td>Good stuff!</td>\n",
              "      <td>I'm glad my 45lb cocker/standard poodle puppy loves the stuff because I trust the brand and its superior nutrition. Compare labels! My previous feed (Pedigree) was mostly corn. My little dude is h...</td>\n",
              "    </tr>\n",
              "  </tbody>\n",
              "</table>\n",
              "</div>"
            ],
            "text/plain": [
              "   Unnamed: 0  ...                                                                                                                                                                                                     Text\n",
              "0        2546  ...  Why is this $[...] when the same product is available for $[...] here?<br />http://www.amazon.com/VICTOR-FLY-MAGNET-BAIT-REFILL/dp/B00004RBDY<br /><br />The Victor M380 and M502 traps are unreal, ...\n",
              "1        2547  ...                                                                                                                          We have used the Victor fly bait for 3 seasons.  Can't beat it.  Great product!\n",
              "2        1145  ...  I just received my shipment and could hardly wait to try this product. We love &quot;slickers&quot; which is what we call them, instead of stickers because they can be removed so easily. My daught...\n",
              "3        1146  ...                                 This was a really good idea and the final product is outstanding. I use the decals on my car window and everybody asks where i bought the decals i made.  Two thumbs up!\n",
              "4        2942  ...  I'm glad my 45lb cocker/standard poodle puppy loves the stuff because I trust the brand and its superior nutrition. Compare labels! My previous feed (Pedigree) was mostly corn. My little dude is h...\n",
              "\n",
              "[5 rows x 11 columns]"
            ]
          },
          "metadata": {
            "tags": []
          },
          "execution_count": 12
        }
      ]
    },
    {
      "cell_type": "markdown",
      "metadata": {
        "id": "bGxKgKf86d-m",
        "colab_type": "text"
      },
      "source": [
        "# 3.Drop Duplicates and NA values\n"
      ]
    },
    {
      "cell_type": "code",
      "metadata": {
        "id": "LXFHtFMU6dlA",
        "colab_type": "code",
        "colab": {}
      },
      "source": [
        "data.drop_duplicates(subset=['Text'],inplace=True)\n",
        "data.dropna(axis=0,inplace=True)"
      ],
      "execution_count": 0,
      "outputs": []
    },
    {
      "cell_type": "code",
      "metadata": {
        "id": "9vmJJ7ze5aB1",
        "colab_type": "code",
        "outputId": "faf094a2-486d-4eae-9dad-39726550588a",
        "colab": {
          "base_uri": "https://localhost:8080/",
          "height": 289
        }
      },
      "source": [
        "data.info()"
      ],
      "execution_count": 0,
      "outputs": [
        {
          "output_type": "stream",
          "text": [
            "<class 'pandas.core.frame.DataFrame'>\n",
            "Int64Index: 4985 entries, 0 to 4985\n",
            "Data columns (total 11 columns):\n",
            "Unnamed: 0                4985 non-null int64\n",
            "Id                        4985 non-null int64\n",
            "ProductId                 4985 non-null object\n",
            "UserId                    4985 non-null object\n",
            "ProfileName               4985 non-null object\n",
            "HelpfulnessNumerator      4985 non-null int64\n",
            "HelpfulnessDenominator    4985 non-null int64\n",
            "Score                     4985 non-null int64\n",
            "Time                      4985 non-null int64\n",
            "Summary                   4985 non-null object\n",
            "Text                      4985 non-null object\n",
            "dtypes: int64(6), object(5)\n",
            "memory usage: 467.3+ KB\n"
          ],
          "name": "stdout"
        }
      ]
    },
    {
      "cell_type": "markdown",
      "metadata": {
        "id": "vaEY5KXS8hkY",
        "colab_type": "text"
      },
      "source": [
        "# 4.Preprocessing"
      ]
    },
    {
      "cell_type": "markdown",
      "metadata": {
        "id": "a_aE4TkT8xD5",
        "colab_type": "text"
      },
      "source": [
        "Here is the dictionary that we will use for expanding the contractions:"
      ]
    },
    {
      "cell_type": "code",
      "metadata": {
        "id": "TrvcFoIc8VYy",
        "colab_type": "code",
        "colab": {}
      },
      "source": [
        "contraction_mapping = {\"ain't\": \"is not\", \"aren't\": \"are not\",\"can't\": \"cannot\", \"'cause\": \"because\", \"could've\": \"could have\", \"couldn't\": \"could not\",\n",
        "                           \"didn't\": \"did not\",  \"doesn't\": \"does not\", \"don't\": \"do not\", \"hadn't\": \"had not\", \"hasn't\": \"has not\", \"haven't\": \"have not\",\n",
        "                           \"he'd\": \"he would\",\"he'll\": \"he will\", \"he's\": \"he is\", \"how'd\": \"how did\", \"how'd'y\": \"how do you\", \"how'll\": \"how will\", \"how's\": \"how is\",\n",
        "                           \"I'd\": \"I would\", \"I'd've\": \"I would have\", \"I'll\": \"I will\", \"I'll've\": \"I will have\",\"I'm\": \"I am\", \"I've\": \"I have\", \"i'd\": \"i would\",\n",
        "                           \"i'd've\": \"i would have\", \"i'll\": \"i will\",  \"i'll've\": \"i will have\",\"i'm\": \"i am\", \"i've\": \"i have\", \"isn't\": \"is not\", \"it'd\": \"it would\",\n",
        "                           \"it'd've\": \"it would have\", \"it'll\": \"it will\", \"it'll've\": \"it will have\",\"it's\": \"it is\", \"let's\": \"let us\", \"ma'am\": \"madam\",\n",
        "                           \"mayn't\": \"may not\", \"might've\": \"might have\",\"mightn't\": \"might not\",\"mightn't've\": \"might not have\", \"must've\": \"must have\",\n",
        "                           \"mustn't\": \"must not\", \"mustn't've\": \"must not have\", \"needn't\": \"need not\", \"needn't've\": \"need not have\",\"o'clock\": \"of the clock\",\n",
        "                           \"oughtn't\": \"ought not\", \"oughtn't've\": \"ought not have\", \"shan't\": \"shall not\", \"sha'n't\": \"shall not\", \"shan't've\": \"shall not have\",\n",
        "                           \"she'd\": \"she would\", \"she'd've\": \"she would have\", \"she'll\": \"she will\", \"she'll've\": \"she will have\", \"she's\": \"she is\",\n",
        "                           \"should've\": \"should have\", \"shouldn't\": \"should not\", \"shouldn't've\": \"should not have\", \"so've\": \"so have\",\"so's\": \"so as\",\n",
        "                           \"this's\": \"this is\",\"that'd\": \"that would\", \"that'd've\": \"that would have\", \"that's\": \"that is\", \"there'd\": \"there would\",\n",
        "                           \"there'd've\": \"there would have\", \"there's\": \"there is\", \"here's\": \"here is\",\"they'd\": \"they would\", \"they'd've\": \"they would have\",\n",
        "                           \"they'll\": \"they will\", \"they'll've\": \"they will have\", \"they're\": \"they are\", \"they've\": \"they have\", \"to've\": \"to have\",\n",
        "                           \"wasn't\": \"was not\", \"we'd\": \"we would\", \"we'd've\": \"we would have\", \"we'll\": \"we will\", \"we'll've\": \"we will have\", \"we're\": \"we are\",\n",
        "                           \"we've\": \"we have\", \"weren't\": \"were not\", \"what'll\": \"what will\", \"what'll've\": \"what will have\", \"what're\": \"what are\",\n",
        "                           \"what's\": \"what is\", \"what've\": \"what have\", \"when's\": \"when is\", \"when've\": \"when have\", \"where'd\": \"where did\", \"where's\": \"where is\",\n",
        "                           \"where've\": \"where have\", \"who'll\": \"who will\", \"who'll've\": \"who will have\", \"who's\": \"who is\", \"who've\": \"who have\",\n",
        "                           \"why's\": \"why is\", \"why've\": \"why have\", \"will've\": \"will have\", \"won't\": \"will not\", \"won't've\": \"will not have\",\n",
        "                           \"would've\": \"would have\", \"wouldn't\": \"would not\", \"wouldn't've\": \"would not have\", \"y'all\": \"you all\",\n",
        "                           \"y'all'd\": \"you all would\",\"y'all'd've\": \"you all would have\",\"y'all're\": \"you all are\",\"y'all've\": \"you all have\",\n",
        "                           \"you'd\": \"you would\", \"you'd've\": \"you would have\", \"you'll\": \"you will\", \"you'll've\": \"you will have\",\n",
        "                           \"you're\": \"you are\", \"you've\": \"you have\"}\n"
      ],
      "execution_count": 0,
      "outputs": []
    },
    {
      "cell_type": "code",
      "metadata": {
        "id": "YJQwV7Hwsxlq",
        "colab_type": "code",
        "outputId": "85f9ce85-a490-4632-80d0-5cdd1e504189",
        "colab": {
          "base_uri": "https://localhost:8080/",
          "height": 51
        }
      },
      "source": [
        "!pip install NLTK"
      ],
      "execution_count": 0,
      "outputs": [
        {
          "output_type": "stream",
          "text": [
            "Requirement already satisfied: NLTK in /usr/local/lib/python3.6/dist-packages (3.2.5)\n",
            "Requirement already satisfied: six in /usr/local/lib/python3.6/dist-packages (from NLTK) (1.12.0)\n"
          ],
          "name": "stdout"
        }
      ]
    },
    {
      "cell_type": "markdown",
      "metadata": {
        "id": "98-cTtQx8_uB",
        "colab_type": "text"
      },
      "source": [
        "We will perform the below preprocessing tasks for our data:\n",
        "\n",
        "1.Convert everything to lowercase\n",
        "\n",
        "2.Remove HTML tags\n",
        "\n",
        "3.Contraction mapping\n",
        "\n",
        "4.Remove (‘s)\n",
        "\n",
        "5.Remove any text inside the parenthesis ( )\n",
        "\n",
        "6.Eliminate punctuations and special characters\n",
        "\n",
        "7.Remove stopwords\n",
        "\n",
        "8.Remove short words"
      ]
    },
    {
      "cell_type": "code",
      "metadata": {
        "id": "9iXQ1i1K9C8d",
        "colab_type": "code",
        "colab": {}
      },
      "source": [
        "stop_words = set(stopwords.words('english')) \n",
        "\n",
        "def text_cleaner(text,num):\n",
        "    newString = text.lower()\n",
        "    newString = BeautifulSoup(newString, \"lxml\").text\n",
        "    newString = re.sub(r'\\([^)]*\\)', '', newString)\n",
        "    newString = re.sub('\"','', newString)\n",
        "    newString = ' '.join([contraction_mapping[t] if t in contraction_mapping else t for t in newString.split(\" \")])    \n",
        "    newString = re.sub(r\"'s\\b\",\"\",newString)\n",
        "    newString = re.sub(\"[^a-zA-Z]\", \" \", newString) \n",
        "    newString = re.sub('[m]{2,}', 'mm', newString)\n",
        "    if(num==0):\n",
        "        tokens = [w for w in newString.split() if not w in stop_words]\n",
        "    else:\n",
        "        tokens=newString.split()\n",
        "    long_words=[]\n",
        "    for i in tokens:\n",
        "        if len(i)>1:                                                 \n",
        "            long_words.append(i)   \n",
        "    return (\" \".join(long_words)).strip()\n"
      ],
      "execution_count": 0,
      "outputs": []
    },
    {
      "cell_type": "code",
      "metadata": {
        "id": "b1D2a3s_tMiX",
        "colab_type": "code",
        "colab": {}
      },
      "source": [
        "cleaned_text = []\n",
        "for t in data['Text']:\n",
        "    cleaned_text.append(text_cleaner(t,0))"
      ],
      "execution_count": 0,
      "outputs": []
    },
    {
      "cell_type": "code",
      "metadata": {
        "id": "1g-MjRdFtbjw",
        "colab_type": "code",
        "outputId": "229aaf86-0dc1-417f-9314-d734715987a2",
        "colab": {
          "base_uri": "https://localhost:8080/",
          "height": 122
        }
      },
      "source": [
        "cleaned_text[:5]"
      ],
      "execution_count": 0,
      "outputs": [
        {
          "output_type": "execute_result",
          "data": {
            "text/plain": [
              "['product available http www amazon com victor fly magnet bait refill dp rbdythe victor traps unreal course total fly genocide pretty stinky right nearby',\n",
              " 'used victor fly bait seasons cannot beat great product',\n",
              " 'received shipment could hardly wait try product love slickers call instead stickers removed easily daughter designed signs printed reverse use car windows printed beautifully going lot fun product windows everywhere surfaces like tv screens computer monitors',\n",
              " 'really good idea final product outstanding use decals car window everybody asks bought decals made two thumbs',\n",
              " 'glad lb cocker standard poodle puppy loves stuff trust brand superior nutrition compare labels previous feed mostly corn little dude healthy happy high energy glossy coat also superior nutrition produces smaller compact stools']"
            ]
          },
          "metadata": {
            "tags": []
          },
          "execution_count": 28
        }
      ]
    },
    {
      "cell_type": "code",
      "metadata": {
        "id": "JnNwKboLtxbp",
        "colab_type": "code",
        "colab": {}
      },
      "source": [
        "cleaned_summary = []\n",
        "for t in data['Summary']:\n",
        "    cleaned_summary.append(text_cleaner(t,1))\n"
      ],
      "execution_count": 0,
      "outputs": []
    },
    {
      "cell_type": "code",
      "metadata": {
        "id": "kf9URHXWt3iI",
        "colab_type": "code",
        "outputId": "3ede3821-f48b-4030-ee50-367ddcd20ce0",
        "colab": {
          "base_uri": "https://localhost:8080/",
          "height": 187
        }
      },
      "source": [
        "cleaned_summary[:10]\n"
      ],
      "execution_count": 0,
      "outputs": [
        {
          "output_type": "execute_result",
          "data": {
            "text/plain": [
              "['thirty bucks',\n",
              " 'flies begone',\n",
              " 'wow make your own slickers',\n",
              " 'great product',\n",
              " 'good stuff',\n",
              " 'premium quality dog food',\n",
              " 'cats love it',\n",
              " 'nice big pieces big almond flavor',\n",
              " 'summer treat fat free guilt free',\n",
              " 'do not buy this product unless you are looking for shredded coconut']"
            ]
          },
          "metadata": {
            "tags": []
          },
          "execution_count": 30
        }
      ]
    },
    {
      "cell_type": "code",
      "metadata": {
        "id": "5Vi7UQSst5o9",
        "colab_type": "code",
        "colab": {}
      },
      "source": [
        "data['cleaned_text']=cleaned_text\n",
        "data['cleaned_summary']=cleaned_summary\n"
      ],
      "execution_count": 0,
      "outputs": []
    },
    {
      "cell_type": "markdown",
      "metadata": {
        "id": "e33CBaN_uEJl",
        "colab_type": "text"
      },
      "source": [
        "# 5.Drop empty rows\n"
      ]
    },
    {
      "cell_type": "code",
      "metadata": {
        "id": "u8zK0THVt-Jg",
        "colab_type": "code",
        "colab": {}
      },
      "source": [
        "data.replace('', np.nan, inplace=True)\n",
        "data.dropna(axis=0,inplace=True)"
      ],
      "execution_count": 0,
      "outputs": []
    },
    {
      "cell_type": "markdown",
      "metadata": {
        "id": "6zFTtVuouQsr",
        "colab_type": "text"
      },
      "source": [
        "# 6.Understanding the distribution of the sequences¶\n"
      ]
    },
    {
      "cell_type": "code",
      "metadata": {
        "id": "4vP9QZr-uMzj",
        "colab_type": "code",
        "outputId": "1873f219-3148-47e2-a09b-080b7151be6a",
        "colab": {
          "base_uri": "https://localhost:8080/",
          "height": 281
        }
      },
      "source": [
        "import matplotlib.pyplot as plt\n",
        "\n",
        "text_word_count = []\n",
        "summary_word_count = []\n",
        "\n",
        "# populate the lists with sentence lengths\n",
        "for i in data['cleaned_text']:\n",
        "      text_word_count.append(len(i.split()))\n",
        "\n",
        "for i in data['cleaned_summary']:\n",
        "      summary_word_count.append(len(i.split()))\n",
        "\n",
        "length_df = pd.DataFrame({'text':text_word_count, 'summary':summary_word_count})\n",
        "\n",
        "length_df.hist(bins = 30)\n",
        "plt.show()\n"
      ],
      "execution_count": 0,
      "outputs": [
        {
          "output_type": "display_data",
          "data": {
            "image/png": "[encoded data removed]",
            "text/plain": [
              "<Figure size 432x288 with 2 Axes>"
            ]
          },
          "metadata": {
            "tags": []
          }
        }
      ]
    },
    {
      "cell_type": "code",
      "metadata": {
        "id": "10cE9elguhPR",
        "colab_type": "code",
        "colab": {}
      },
      "source": [
        "max_text_len=30\n",
        "max_summary_len=8\n"
      ],
      "execution_count": 0,
      "outputs": []
    },
    {
      "cell_type": "markdown",
      "metadata": {
        "id": "aZ8SncuawgTu",
        "colab_type": "text"
      },
      "source": [
        "Let us select the reviews and summaries whose length falls below or equal to max_text_len and max_summary_len\n",
        "\n"
      ]
    },
    {
      "cell_type": "code",
      "metadata": {
        "id": "Y2469MfwwPZS",
        "colab_type": "code",
        "colab": {}
      },
      "source": [
        "cleaned_text =np.array(data['cleaned_text'])\n",
        "cleaned_summary=np.array(data['cleaned_summary'])\n",
        "\n",
        "short_text=[]\n",
        "short_summary=[]\n",
        "\n",
        "for i in range(len(cleaned_text)):\n",
        "    if(len(cleaned_summary[i].split())<=max_summary_len and len(cleaned_text[i].split())<=max_text_len):\n",
        "        short_text.append(cleaned_text[i])\n",
        "        short_summary.append(cleaned_summary[i])\n",
        "        \n",
        "df=pd.DataFrame({'text':short_text,'summary':short_summary})"
      ],
      "execution_count": 0,
      "outputs": []
    },
    {
      "cell_type": "markdown",
      "metadata": {
        "id": "IytsEUaLws2I",
        "colab_type": "text"
      },
      "source": [
        "Add the START and END special tokens at the beginning and end of the summary. Here, I have chosen sostok and eostok as START and END tokens"
      ]
    },
    {
      "cell_type": "code",
      "metadata": {
        "id": "zFAgqKjkwpdM",
        "colab_type": "code",
        "colab": {}
      },
      "source": [
        "df['summary'] = df['summary'].apply(lambda x : 'sostok '+ x + ' eostok')"
      ],
      "execution_count": 0,
      "outputs": []
    },
    {
      "cell_type": "markdown",
      "metadata": {
        "id": "FIpNrspIw9FD",
        "colab_type": "text"
      },
      "source": [
        "we need to split our dataset into a training and validation set. We’ll use 90% of the dataset as the training data and evaluate the performance on the remaining 10%:\n"
      ]
    },
    {
      "cell_type": "code",
      "metadata": {
        "id": "wi3KDFdhw1GX",
        "colab_type": "code",
        "colab": {}
      },
      "source": [
        "from sklearn.model_selection import train_test_split\n",
        "x_tr,x_val,y_tr,y_val=train_test_split(np.array(df['text']),np.array(df['summary']),test_size=0.1,random_state=0,shuffle=True)"
      ],
      "execution_count": 0,
      "outputs": []
    },
    {
      "cell_type": "markdown",
      "metadata": {
        "id": "qnaqBst1xN-9",
        "colab_type": "text"
      },
      "source": [
        "# 7.Preparing the Tokenizer"
      ]
    },
    {
      "cell_type": "markdown",
      "metadata": {
        "id": "StWGlP4rxSO9",
        "colab_type": "text"
      },
      "source": [
        "A tokenizer builds the vocabulary and converts a word sequence to an integer sequence.Build tokenizers for text and summary:"
      ]
    },
    {
      "cell_type": "markdown",
      "metadata": {
        "id": "QvZQsH0QxqS0",
        "colab_type": "text"
      },
      "source": [
        "##Text Tokenizer"
      ]
    },
    {
      "cell_type": "code",
      "metadata": {
        "id": "HeQndRJkxC0E",
        "colab_type": "code",
        "colab": {}
      },
      "source": [
        "from keras.preprocessing.text import Tokenizer \n",
        "from keras.preprocessing.sequence import pad_sequences\n",
        "x_tokenizer = Tokenizer() \n",
        "x_tokenizer.fit_on_texts(list(x_tr))"
      ],
      "execution_count": 0,
      "outputs": []
    },
    {
      "cell_type": "markdown",
      "metadata": {
        "id": "rz82XhceyK7k",
        "colab_type": "text"
      },
      "source": [
        "## Rarewords and its Coverage"
      ]
    },
    {
      "cell_type": "markdown",
      "metadata": {
        "id": "JQMjcJ1tybJ2",
        "colab_type": "text"
      },
      "source": [
        "Here, we are defining the threshold to be 4 which means word whose count is below 4 is considered as a rare word\n",
        "\n"
      ]
    },
    {
      "cell_type": "code",
      "metadata": {
        "id": "H4LI2HbFx0Lp",
        "colab_type": "code",
        "outputId": "1721bf9a-abef-4456-a256-1f0d99baeab3",
        "colab": {
          "base_uri": "https://localhost:8080/",
          "height": 51
        }
      },
      "source": [
        "thresh=4\n",
        "\n",
        "cnt=0\n",
        "tot_cnt=0\n",
        "freq=0\n",
        "tot_freq=0\n",
        "\n",
        "for key,value in x_tokenizer.word_counts.items():\n",
        "    tot_cnt=tot_cnt+1\n",
        "    tot_freq=tot_freq+value\n",
        "    if(value<thresh):\n",
        "        cnt=cnt+1\n",
        "        freq=freq+value\n",
        "    \n",
        "print(\"% of rare words in vocabulary:\",(cnt/tot_cnt)*100)\n",
        "print(\"Total Coverage of rare words:\",(freq/tot_freq)*100)\n"
      ],
      "execution_count": 0,
      "outputs": [
        {
          "output_type": "stream",
          "text": [
            "% of rare words in vocabulary: 69.62672575421851\n",
            "Total Coverage of rare words: 12.353396056192809\n"
          ],
          "name": "stdout"
        }
      ]
    },
    {
      "cell_type": "markdown",
      "metadata": {
        "id": "969mNZOkzAIg",
        "colab_type": "text"
      },
      "source": [
        "Let us define the tokenizer with top most common words for reviews.\n",
        "\n"
      ]
    },
    {
      "cell_type": "code",
      "metadata": {
        "id": "mO4d33BXysRf",
        "colab_type": "code",
        "colab": {}
      },
      "source": [
        "#prepare a tokenizer for reviews on training data\n",
        "x_tokenizer = Tokenizer(num_words=tot_cnt-cnt) \n",
        "x_tokenizer.fit_on_texts(list(x_tr))\n",
        "\n",
        "#convert text sequences into integer sequences\n",
        "x_tr_seq    =   x_tokenizer.texts_to_sequences(x_tr) \n",
        "x_val_seq   =   x_tokenizer.texts_to_sequences(x_val)\n",
        "\n",
        "#padding zero upto maximum length\n",
        "x_tr    =   pad_sequences(x_tr_seq,  maxlen=max_text_len, padding='post')\n",
        "x_val   =   pad_sequences(x_val_seq, maxlen=max_text_len, padding='post')\n",
        "\n",
        "#size of vocabulary ( +1 for padding token)\n",
        "x_voc   =  x_tokenizer.num_words + 1"
      ],
      "execution_count": 0,
      "outputs": []
    },
    {
      "cell_type": "code",
      "metadata": {
        "id": "KY5KhvU2zNOA",
        "colab_type": "code",
        "outputId": "e80acd2c-93fb-4ae4-8a15-c305e02ef9ae",
        "colab": {
          "base_uri": "https://localhost:8080/",
          "height": 34
        }
      },
      "source": [
        "x_voc\n"
      ],
      "execution_count": 0,
      "outputs": [
        {
          "output_type": "execute_result",
          "data": {
            "text/plain": [
              "1783"
            ]
          },
          "metadata": {
            "tags": []
          },
          "execution_count": 42
        }
      ]
    },
    {
      "cell_type": "markdown",
      "metadata": {
        "id": "TWLuSyINzV9R",
        "colab_type": "text"
      },
      "source": [
        "##Summary Tokenizer"
      ]
    },
    {
      "cell_type": "code",
      "metadata": {
        "id": "1w7WDCtxzQd7",
        "colab_type": "code",
        "colab": {}
      },
      "source": [
        "#prepare a tokenizer for reviews on training data\n",
        "y_tokenizer = Tokenizer()   \n",
        "y_tokenizer.fit_on_texts(list(y_tr))"
      ],
      "execution_count": 0,
      "outputs": []
    },
    {
      "cell_type": "markdown",
      "metadata": {
        "id": "KcHCsQodzhUK",
        "colab_type": "text"
      },
      "source": [
        "###Rarewords and its Coverage"
      ]
    },
    {
      "cell_type": "markdown",
      "metadata": {
        "id": "n6LEepQ1zpQW",
        "colab_type": "text"
      },
      "source": [
        "Word whose count is below 6 is considered as a rare word"
      ]
    },
    {
      "cell_type": "code",
      "metadata": {
        "id": "HbkjeKsYzdCT",
        "colab_type": "code",
        "outputId": "cbb7346b-54ee-4a19-cd5d-5350eb36fc9b",
        "colab": {
          "base_uri": "https://localhost:8080/",
          "height": 51
        }
      },
      "source": [
        "thresh=6\n",
        "\n",
        "cnt=0\n",
        "tot_cnt=0\n",
        "freq=0\n",
        "tot_freq=0\n",
        "\n",
        "for key,value in y_tokenizer.word_counts.items():\n",
        "    tot_cnt=tot_cnt+1\n",
        "    tot_freq=tot_freq+value\n",
        "    if(value<thresh):\n",
        "        cnt=cnt+1\n",
        "        freq=freq+value\n",
        "    \n",
        "print(\"% of rare words in vocabulary:\",(cnt/tot_cnt)*100)\n",
        "print(\"Total Coverage of rare words:\",(freq/tot_freq)*100)\n"
      ],
      "execution_count": 0,
      "outputs": [
        {
          "output_type": "stream",
          "text": [
            "% of rare words in vocabulary: 87.55630630630631\n",
            "Total Coverage of rare words: 18.904211703317184\n"
          ],
          "name": "stdout"
        }
      ]
    },
    {
      "cell_type": "markdown",
      "metadata": {
        "id": "p01uyQTRz24w",
        "colab_type": "text"
      },
      "source": [
        "Let us define the tokenizer with top most common words for summary.\n",
        "\n"
      ]
    },
    {
      "cell_type": "code",
      "metadata": {
        "id": "_-6w04t9zuXM",
        "colab_type": "code",
        "colab": {}
      },
      "source": [
        "#prepare a tokenizer for reviews on training data\n",
        "y_tokenizer = Tokenizer(num_words=tot_cnt-cnt) \n",
        "y_tokenizer.fit_on_texts(list(y_tr))\n",
        "\n",
        "#convert text sequences into integer sequences\n",
        "y_tr_seq    =   y_tokenizer.texts_to_sequences(y_tr) \n",
        "y_val_seq   =   y_tokenizer.texts_to_sequences(y_val) \n",
        "\n",
        "#padding zero upto maximum length\n",
        "y_tr    =   pad_sequences(y_tr_seq, maxlen=max_summary_len, padding='post')\n",
        "y_val   =   pad_sequences(y_val_seq, maxlen=max_summary_len, padding='post')\n",
        "\n",
        "#size of vocabulary\n",
        "y_voc  =   y_tokenizer.num_words +1"
      ],
      "execution_count": 0,
      "outputs": []
    },
    {
      "cell_type": "code",
      "metadata": {
        "id": "YOLXLaS-1Idb",
        "colab_type": "code",
        "colab": {}
      },
      "source": [
        "import tensorflow as tf\n",
        "import os\n",
        "from tensorflow.python.keras.layers import Layer\n",
        "from tensorflow.python.keras import backend as K\n",
        "\n",
        "\n",
        "class AttentionLayer(Layer):\n",
        "    \"\"\"\n",
        "    This class implements Bahdanau attention (https://arxiv.org/pdf/1409.0473.pdf).\n",
        "    There are three sets of weights introduced W_a, U_a, and V_a\n",
        "     \"\"\"\n",
        "\n",
        "    def __init__(self, **kwargs):\n",
        "        super(AttentionLayer, self).__init__(**kwargs)\n",
        "\n",
        "    def build(self, input_shape):\n",
        "        assert isinstance(input_shape, list)\n",
        "        # Create a trainable weight variable for this layer.\n",
        "\n",
        "        self.W_a = self.add_weight(name='W_a',\n",
        "                                   shape=tf.TensorShape((input_shape[0][2], input_shape[0][2])),\n",
        "                                   initializer='uniform',\n",
        "                                   trainable=True)\n",
        "        self.U_a = self.add_weight(name='U_a',\n",
        "                                   shape=tf.TensorShape((input_shape[1][2], input_shape[0][2])),\n",
        "                                   initializer='uniform',\n",
        "                                   trainable=True)\n",
        "        self.V_a = self.add_weight(name='V_a',\n",
        "                                   shape=tf.TensorShape((input_shape[0][2], 1)),\n",
        "                                   initializer='uniform',\n",
        "                                   trainable=True)\n",
        "\n",
        "        super(AttentionLayer, self).build(input_shape)  # Be sure to call this at the end\n",
        "\n",
        "    def call(self, inputs, verbose=False):\n",
        "        \"\"\"\n",
        "        inputs: [encoder_output_sequence, decoder_output_sequence]\n",
        "        \"\"\"\n",
        "        assert type(inputs) == list\n",
        "        encoder_out_seq, decoder_out_seq = inputs\n",
        "        if verbose:\n",
        "            print('encoder_out_seq>', encoder_out_seq.shape)\n",
        "            print('decoder_out_seq>', decoder_out_seq.shape)\n",
        "\n",
        "        def energy_step(inputs, states):\n",
        "            \"\"\" Step function for computing energy for a single decoder state \"\"\"\n",
        "\n",
        "            assert_msg = \"States must be a list. However states {} is of type {}\".format(states, type(states))\n",
        "            assert isinstance(states, list) or isinstance(states, tuple), assert_msg\n",
        "\n",
        "            \"\"\" Some parameters required for shaping tensors\"\"\"\n",
        "            en_seq_len, en_hidden = encoder_out_seq.shape[1], encoder_out_seq.shape[2]\n",
        "            de_hidden = inputs.shape[-1]\n",
        "\n",
        "            \"\"\" Computing S.Wa where S=[s0, s1, ..., si]\"\"\"\n",
        "            # <= batch_size*en_seq_len, latent_dim\n",
        "            reshaped_enc_outputs = K.reshape(encoder_out_seq, (-1, en_hidden))\n",
        "            # <= batch_size*en_seq_len, latent_dim\n",
        "            W_a_dot_s = K.reshape(K.dot(reshaped_enc_outputs, self.W_a), (-1, en_seq_len, en_hidden))\n",
        "            if verbose:\n",
        "                print('wa.s>',W_a_dot_s.shape)\n",
        "\n",
        "            \"\"\" Computing hj.Ua \"\"\"\n",
        "            U_a_dot_h = K.expand_dims(K.dot(inputs, self.U_a), 1)  # <= batch_size, 1, latent_dim\n",
        "            if verbose:\n",
        "                print('Ua.h>',U_a_dot_h.shape)\n",
        "\n",
        "            \"\"\" tanh(S.Wa + hj.Ua) \"\"\"\n",
        "            # <= batch_size*en_seq_len, latent_dim\n",
        "            reshaped_Ws_plus_Uh = K.tanh(K.reshape(W_a_dot_s + U_a_dot_h, (-1, en_hidden)))\n",
        "            if verbose:\n",
        "                print('Ws+Uh>', reshaped_Ws_plus_Uh.shape)\n",
        "\n",
        "            \"\"\" softmax(va.tanh(S.Wa + hj.Ua)) \"\"\"\n",
        "            # <= batch_size, en_seq_len\n",
        "            e_i = K.reshape(K.dot(reshaped_Ws_plus_Uh, self.V_a), (-1, en_seq_len))\n",
        "            # <= batch_size, en_seq_len\n",
        "            e_i = K.softmax(e_i)\n",
        "\n",
        "            if verbose:\n",
        "                print('ei>', e_i.shape)\n",
        "\n",
        "            return e_i, [e_i]\n",
        "\n",
        "        def context_step(inputs, states):\n",
        "            \"\"\" Step function for computing ci using ei \"\"\"\n",
        "            # <= batch_size, hidden_size\n",
        "            c_i = K.sum(encoder_out_seq * K.expand_dims(inputs, -1), axis=1)\n",
        "            if verbose:\n",
        "                print('ci>', c_i.shape)\n",
        "            return c_i, [c_i]\n",
        "\n",
        "        def create_inital_state(inputs, hidden_size):\n",
        "            # We are not using initial states, but need to pass something to K.rnn funciton\n",
        "            fake_state = K.zeros_like(inputs)  # <= (batch_size, enc_seq_len, latent_dim\n",
        "            fake_state = K.sum(fake_state, axis=[1, 2])  # <= (batch_size)\n",
        "            fake_state = K.expand_dims(fake_state)  # <= (batch_size, 1)\n",
        "            fake_state = K.tile(fake_state, [1, hidden_size])  # <= (batch_size, latent_dim\n",
        "            return fake_state\n",
        "\n",
        "        fake_state_c = create_inital_state(encoder_out_seq, encoder_out_seq.shape[-1])\n",
        "        fake_state_e = create_inital_state(encoder_out_seq, encoder_out_seq.shape[1])  # <= (batch_size, enc_seq_len, latent_dim\n",
        "\n",
        "        \"\"\" Computing energy outputs \"\"\"\n",
        "        # e_outputs => (batch_size, de_seq_len, en_seq_len)\n",
        "        last_out, e_outputs, _ = K.rnn(\n",
        "            energy_step, decoder_out_seq, [fake_state_e],\n",
        "        )\n",
        "\n",
        "        \"\"\" Computing context vectors \"\"\"\n",
        "        last_out, c_outputs, _ = K.rnn(\n",
        "            context_step, e_outputs, [fake_state_c],\n",
        "        )\n",
        "\n",
        "        return c_outputs, e_outputs\n",
        "\n",
        "    def compute_output_shape(self, input_shape):\n",
        "        \"\"\" Outputs produced by the layer \"\"\"\n",
        "        return [\n",
        "            tf.TensorShape((input_shape[1][0], input_shape[1][1], input_shape[1][2])),\n",
        "            tf.TensorShape((input_shape[1][0], input_shape[1][1], input_shape[0][1]))\n",
        "        ]"
      ],
      "execution_count": 0,
      "outputs": []
    },
    {
      "cell_type": "code",
      "metadata": {
        "id": "0bmytwUA5ap_",
        "colab_type": "code",
        "colab": {}
      },
      "source": [
        "ind=[]\n",
        "for i in range(len(y_tr)):\n",
        "    cnt=0\n",
        "    for j in y_tr[i]:\n",
        "        if j!=0:\n",
        "            cnt=cnt+1\n",
        "    if(cnt==2):\n",
        "        ind.append(i)\n",
        "\n",
        "y_tr=np.delete(y_tr,ind, axis=0)\n",
        "x_tr=np.delete(x_tr,ind, axis=0)"
      ],
      "execution_count": 0,
      "outputs": []
    },
    {
      "cell_type": "code",
      "metadata": {
        "id": "4MEhxsmU5cGp",
        "colab_type": "code",
        "colab": {}
      },
      "source": [
        "ind=[]\n",
        "for i in range(len(y_val)):\n",
        "    cnt=0\n",
        "    for j in y_val[i]:\n",
        "        if j!=0:\n",
        "            cnt=cnt+1\n",
        "    if(cnt==2):\n",
        "        ind.append(i)\n",
        "\n",
        "y_val=np.delete(y_val,ind, axis=0)\n",
        "x_val=np.delete(x_val,ind, axis=0)"
      ],
      "execution_count": 0,
      "outputs": []
    },
    {
      "cell_type": "markdown",
      "metadata": {
        "id": "3hHwBeXd0qlv",
        "colab_type": "text"
      },
      "source": [
        "# 8.Model building\n"
      ]
    },
    {
      "cell_type": "code",
      "metadata": {
        "id": "IB-Qq5RRz5-p",
        "colab_type": "code",
        "outputId": "98803f10-f1ef-4056-88e6-f971ddbde36f",
        "colab": {
          "base_uri": "https://localhost:8080/",
          "height": 595
        }
      },
      "source": [
        "from keras import backend as K \n",
        "K.clear_session()\n",
        "\n",
        "latent_dim = 300\n",
        "embedding_dim=100\n",
        "\n",
        "# Encoder\n",
        "encoder_inputs = Input(shape=(max_text_len,))\n",
        "\n",
        "#embedding layer\n",
        "enc_emb =  Embedding(x_voc, embedding_dim,trainable=True)(encoder_inputs)\n",
        "\n",
        "#encoder lstm 1\n",
        "encoder_lstm1 = LSTM(latent_dim,return_sequences=True,return_state=True,dropout=0.4,recurrent_dropout=0.4)\n",
        "encoder_output1, state_h1, state_c1 = encoder_lstm1(enc_emb)\n",
        "\n",
        "#encoder lstm 2\n",
        "encoder_lstm2 = LSTM(latent_dim,return_sequences=True,return_state=True,dropout=0.4,recurrent_dropout=0.4)\n",
        "encoder_output2, state_h2, state_c2 = encoder_lstm2(encoder_output1)\n",
        "\n",
        "#encoder lstm 3\n",
        "encoder_lstm3=LSTM(latent_dim, return_state=True, return_sequences=True,dropout=0.4,recurrent_dropout=0.4)\n",
        "encoder_outputs, state_h, state_c= encoder_lstm3(encoder_output2)\n",
        "\n",
        "# Set up the decoder, using `encoder_states` as initial state.\n",
        "decoder_inputs = Input(shape=(None,))\n",
        "\n",
        "#embedding layer\n",
        "dec_emb_layer = Embedding(y_voc, embedding_dim,trainable=True)\n",
        "dec_emb = dec_emb_layer(decoder_inputs)\n",
        "\n",
        "decoder_lstm = LSTM(latent_dim, return_sequences=True, return_state=True,dropout=0.4,recurrent_dropout=0.2)\n",
        "decoder_outputs,decoder_fwd_state, decoder_back_state = decoder_lstm(dec_emb,initial_state=[state_h, state_c])\n",
        "\n",
        "# Attention layer\n",
        "attn_layer = AttentionLayer(name='attention_layer')\n",
        "attn_out, attn_states = attn_layer([encoder_outputs, decoder_outputs])\n",
        "\n",
        "# Concat attention input and decoder LSTM output\n",
        "decoder_concat_input = Concatenate(axis=-1, name='concat_layer')([decoder_outputs, attn_out])\n",
        "\n",
        "#dense layer\n",
        "decoder_dense =  TimeDistributed(Dense(y_voc, activation='softmax'))\n",
        "decoder_outputs = decoder_dense(decoder_concat_input)\n",
        "\n",
        "# Define the model \n",
        "model = Model([encoder_inputs, decoder_inputs], decoder_outputs)\n",
        "\n",
        "model.summary()\n"
      ],
      "execution_count": 0,
      "outputs": [
        {
          "output_type": "stream",
          "text": [
            "Model: \"model\"\n",
            "__________________________________________________________________________________________________\n",
            "Layer (type)                    Output Shape         Param #     Connected to                     \n",
            "==================================================================================================\n",
            "input_1 (InputLayer)            [(None, 30)]         0                                            \n",
            "__________________________________________________________________________________________________\n",
            "embedding (Embedding)           (None, 30, 100)      178300      input_1[0][0]                    \n",
            "__________________________________________________________________________________________________\n",
            "lstm (LSTM)                     [(None, 30, 300), (N 481200      embedding[0][0]                  \n",
            "__________________________________________________________________________________________________\n",
            "input_2 (InputLayer)            [(None, None)]       0                                            \n",
            "__________________________________________________________________________________________________\n",
            "lstm_1 (LSTM)                   [(None, 30, 300), (N 721200      lstm[0][0]                       \n",
            "__________________________________________________________________________________________________\n",
            "embedding_1 (Embedding)         (None, None, 100)    22200       input_2[0][0]                    \n",
            "__________________________________________________________________________________________________\n",
            "lstm_2 (LSTM)                   [(None, 30, 300), (N 721200      lstm_1[0][0]                     \n",
            "__________________________________________________________________________________________________\n",
            "lstm_3 (LSTM)                   [(None, None, 300),  481200      embedding_1[0][0]                \n",
            "                                                                 lstm_2[0][1]                     \n",
            "                                                                 lstm_2[0][2]                     \n",
            "__________________________________________________________________________________________________\n",
            "attention_layer (AttentionLayer ((None, None, 300),  180300      lstm_2[0][0]                     \n",
            "                                                                 lstm_3[0][0]                     \n",
            "__________________________________________________________________________________________________\n",
            "concat_layer (Concatenate)      (None, None, 600)    0           lstm_3[0][0]                     \n",
            "                                                                 attention_layer[0][0]            \n",
            "__________________________________________________________________________________________________\n",
            "time_distributed (TimeDistribut (None, None, 222)    133422      concat_layer[0][0]               \n",
            "==================================================================================================\n",
            "Total params: 2,919,022\n",
            "Trainable params: 2,919,022\n",
            "Non-trainable params: 0\n",
            "__________________________________________________________________________________________________\n"
          ],
          "name": "stdout"
        }
      ]
    },
    {
      "cell_type": "code",
      "metadata": {
        "id": "msCs3gdC01VI",
        "colab_type": "code",
        "colab": {}
      },
      "source": [
        "model.compile(optimizer='rmsprop', loss='sparse_categorical_crossentropy')\n"
      ],
      "execution_count": 0,
      "outputs": []
    },
    {
      "cell_type": "code",
      "metadata": {
        "id": "z6WGASb-2Pbz",
        "colab_type": "code",
        "colab": {}
      },
      "source": [
        "es = EarlyStopping(monitor='val_loss', mode='min', verbose=1,patience=2)\n"
      ],
      "execution_count": 0,
      "outputs": []
    },
    {
      "cell_type": "code",
      "metadata": {
        "id": "whLCg-sB2SMA",
        "colab_type": "code",
        "outputId": "23e443bf-1f42-4697-9e8d-4b2c352280de",
        "colab": {
          "base_uri": "https://localhost:8080/",
          "height": 357
        }
      },
      "source": [
        "history=model.fit([x_tr,y_tr[:,:-1]], y_tr.reshape(y_tr.shape[0],y_tr.shape[1], 1)[:,1:] ,epochs=50,callbacks=[es],batch_size=128, validation_data=([x_val,y_val[:,:-1]], y_val.reshape(y_val.shape[0],y_val.shape[1], 1)[:,1:]))\n"
      ],
      "execution_count": 0,
      "outputs": [
        {
          "output_type": "stream",
          "text": [
            "Train on 2315 samples, validate on 246 samples\n",
            "Epoch 1/50\n",
            "2315/2315 [==============================] - 44s 19ms/sample - loss: 2.7529 - val_loss: 2.2047\n",
            "Epoch 2/50\n",
            "2315/2315 [==============================] - 41s 18ms/sample - loss: 2.1553 - val_loss: 2.0817\n",
            "Epoch 3/50\n",
            "2315/2315 [==============================] - 41s 18ms/sample - loss: 1.9950 - val_loss: 1.9089\n",
            "Epoch 4/50\n",
            "2315/2315 [==============================] - 41s 18ms/sample - loss: 1.8918 - val_loss: 1.8746\n",
            "Epoch 5/50\n",
            "2315/2315 [==============================] - 41s 18ms/sample - loss: 1.8495 - val_loss: 1.8530\n",
            "Epoch 6/50\n",
            "2315/2315 [==============================] - 41s 18ms/sample - loss: 1.8279 - val_loss: 1.8330\n",
            "Epoch 7/50\n",
            "2315/2315 [==============================] - 42s 18ms/sample - loss: 1.7971 - val_loss: 1.8097\n",
            "Epoch 8/50\n",
            "2315/2315 [==============================] - 41s 18ms/sample - loss: 1.7656 - val_loss: 1.8166\n",
            "Epoch 9/50\n",
            "2315/2315 [==============================] - 41s 18ms/sample - loss: 1.7380 - val_loss: 1.8337\n",
            "Epoch 00009: early stopping\n"
          ],
          "name": "stdout"
        }
      ]
    },
    {
      "cell_type": "markdown",
      "metadata": {
        "id": "o_LrKnvv3EXB",
        "colab_type": "text"
      },
      "source": [
        "# 9.Understanding the Diagnostic plot"
      ]
    },
    {
      "cell_type": "code",
      "metadata": {
        "id": "8dQUzF_z2kP8",
        "colab_type": "code",
        "outputId": "babde473-77b5-4b63-f931-a71edfb70a32",
        "colab": {
          "base_uri": "https://localhost:8080/",
          "height": 269
        }
      },
      "source": [
        "from matplotlib import pyplot\n",
        "pyplot.plot(history.history['loss'], label='train')\n",
        "pyplot.plot(history.history['val_loss'], label='test')\n",
        "pyplot.legend()\n",
        "pyplot.show()"
      ],
      "execution_count": 0,
      "outputs": [
        {
          "output_type": "display_data",
          "data": {
            "image/png": "[encoded data removed]",
            "text/plain": [
              "<Figure size 432x288 with 1 Axes>"
            ]
          },
          "metadata": {
            "tags": []
          }
        }
      ]
    },
    {
      "cell_type": "code",
      "metadata": {
        "id": "N7Zt82RC3Oc5",
        "colab_type": "code",
        "colab": {}
      },
      "source": [
        "reverse_target_word_index=y_tokenizer.index_word\n",
        "reverse_source_word_index=x_tokenizer.index_word\n",
        "target_word_index=y_tokenizer.word_index"
      ],
      "execution_count": 0,
      "outputs": []
    },
    {
      "cell_type": "markdown",
      "metadata": {
        "id": "jzoXf0M83gDB",
        "colab_type": "text"
      },
      "source": [
        "#10.Inference¶\n"
      ]
    },
    {
      "cell_type": "code",
      "metadata": {
        "id": "7D7fg0hG3YM7",
        "colab_type": "code",
        "colab": {}
      },
      "source": [
        "# Encode the input sequence to get the feature vector\n",
        "encoder_model = Model(inputs=encoder_inputs,outputs=[encoder_outputs, state_h, state_c])\n",
        "\n",
        "# Decoder setup\n",
        "# Below tensors will hold the states of the previous time step\n",
        "decoder_state_input_h = Input(shape=(latent_dim,))\n",
        "decoder_state_input_c = Input(shape=(latent_dim,))\n",
        "decoder_hidden_state_input = Input(shape=(max_text_len,latent_dim))\n",
        "\n",
        "# Get the embeddings of the decoder sequence\n",
        "dec_emb2= dec_emb_layer(decoder_inputs) \n",
        "# To predict the next word in the sequence, set the initial states to the states from the previous time step\n",
        "decoder_outputs2, state_h2, state_c2 = decoder_lstm(dec_emb2, initial_state=[decoder_state_input_h, decoder_state_input_c])\n",
        "\n",
        "#attention inference\n",
        "attn_out_inf, attn_states_inf = attn_layer([decoder_hidden_state_input, decoder_outputs2])\n",
        "decoder_inf_concat = Concatenate(axis=-1, name='concat')([decoder_outputs2, attn_out_inf])\n",
        "\n",
        "# A dense softmax layer to generate prob dist. over the target vocabulary\n",
        "decoder_outputs2 = decoder_dense(decoder_inf_concat) \n",
        "\n",
        "# Final decoder model\n",
        "decoder_model = Model(\n",
        "    [decoder_inputs] + [decoder_hidden_state_input,decoder_state_input_h, decoder_state_input_c],\n",
        "    [decoder_outputs2] + [state_h2, state_c2])"
      ],
      "execution_count": 0,
      "outputs": []
    },
    {
      "cell_type": "code",
      "metadata": {
        "id": "45SnikE932zq",
        "colab_type": "code",
        "colab": {}
      },
      "source": [
        "def decode_sequence(input_seq):\n",
        "    # Encode the input as state vectors.\n",
        "    e_out, e_h, e_c = encoder_model.predict(input_seq)\n",
        "    \n",
        "    # Generate empty target sequence of length 1.\n",
        "    target_seq = np.zeros((1,1))\n",
        "    \n",
        "    # Populate the first word of target sequence with the start word.\n",
        "    target_seq[0, 0] = target_word_index['sostok']\n",
        "\n",
        "    stop_condition = False\n",
        "    decoded_sentence = ''\n",
        "    while not stop_condition:\n",
        "      \n",
        "        output_tokens, h, c = decoder_model.predict([target_seq] + [e_out, e_h, e_c])\n",
        "\n",
        "        # Sample a token\n",
        "        sampled_token_index = np.argmax(output_tokens[0, -1, :])\n",
        "        sampled_token = reverse_target_word_index[sampled_token_index]\n",
        "        \n",
        "        if(sampled_token!='eostok'):\n",
        "            decoded_sentence += ' '+sampled_token\n",
        "\n",
        "        # Exit condition: either hit max length or find stop word.\n",
        "        if (sampled_token == 'eostok'  or len(decoded_sentence.split()) >= (max_summary_len-1)):\n",
        "            stop_condition = True\n",
        "\n",
        "        # Update the target sequence (of length 1).\n",
        "        target_seq = np.zeros((1,1))\n",
        "        target_seq[0, 0] = sampled_token_index\n",
        "\n",
        "        # Update internal states\n",
        "        e_h, e_c = h, c\n",
        "\n",
        "    return decoded_sentence\n"
      ],
      "execution_count": 0,
      "outputs": []
    },
    {
      "cell_type": "code",
      "metadata": {
        "id": "tnEcYnVk37U9",
        "colab_type": "code",
        "colab": {}
      },
      "source": [
        "def seq2summary(input_seq):\n",
        "    newString=''\n",
        "    for i in input_seq:\n",
        "        if((i!=0 and i!=target_word_index['sostok']) and i!=target_word_index['eostok']):\n",
        "            newString=newString+reverse_target_word_index[i]+' '\n",
        "    return newString\n",
        "\n",
        "def seq2text(input_seq):\n",
        "    newString=''\n",
        "    for i in input_seq:\n",
        "        if(i!=0):\n",
        "            newString=newString+reverse_source_word_index[i]+' '\n",
        "    return newString\n"
      ],
      "execution_count": 0,
      "outputs": []
    },
    {
      "cell_type": "code",
      "metadata": {
        "id": "--Gn3neV3_7P",
        "colab_type": "code",
        "outputId": "8d71bead-4344-42e3-db4d-c18028b6b100",
        "colab": {
          "base_uri": "https://localhost:8080/",
          "height": 1000
        }
      },
      "source": [
        "for i in range(0,100):\n",
        "    print(\"Review:\",seq2text(x_tr[i]))\n",
        "    print(\"Original summary:\",seq2summary(y_tr[i]))\n",
        "    print(\"Predicted summary:\",decode_sequence(x_tr[i].reshape(1,max_text_len)))\n",
        "    print(\"\\n\")\n"
      ],
      "execution_count": 0,
      "outputs": [
        {
          "output_type": "stream",
          "text": [
            "Review: sent two friend thank big fan thrilled get cinnamon chocolate babka said delicious \n",
            "Original summary: delicious \n",
            "Predicted summary:  great\n",
            "\n",
            "\n",
            "Review: right amount blueberry flavor tea overwhelming love added sweeteners really need perfect way get water benefit antioxidants tea well \n",
            "Original summary: very refreshing \n",
            "Predicted summary:  great\n",
            "\n",
            "\n",
            "Review: item great price tastes great thing could make product better little plastic cup \n",
            "Original summary: love it \n",
            "Predicted summary:  great hot\n",
            "\n",
            "\n",
            "Review: great popcorn good popping results wonderful flavor cannot help love order run recommend one \n",
            "Original summary: great \n",
            "Predicted summary:  great\n",
            "\n",
            "\n",
            "Review: like find bottle convenient like taste would definitely buy considering healthy use sure \n",
            "Original summary: salt \n",
            "Predicted summary:  great\n",
            "\n",
            "\n",
            "Review: love love love muffins moist delicious like best day bake nd day dry bit wonderful pop toaster oven warm good new complaint difficult find def worth every penny \n",
            "Original summary: best muffins in the \n",
            "Predicted summary:  great\n",
            "\n",
            "\n",
            "Review: gross tried thinking would least taste like regular powdered mixes flavor fake sweetener dark chocolate box cups want drink \n",
            "Original summary: yuck all flavor no chocolate \n",
            "Predicted summary:  great hot\n",
            "\n",
            "\n",
            "Review: always pleased amazon packaging chips never broken always fresh really liked brand flavor chips tasty \n",
            "Original summary: great chips \n",
            "Predicted summary:  great\n",
            "\n",
            "\n",
            "Review: dog allergy corn live small town found dog food contain corn perfect new pet well loves added bonus comes straight door \n",
            "Original summary: for dogs with \n",
            "Predicted summary:  hot dog\n",
            "\n",
            "\n",
            "Review: tic tacs great right orange flavor find cheaper store cents pack went recently bought anyone living ca \n",
            "Original summary: great \n",
            "Predicted summary:  great\n",
            "\n",
            "\n",
            "Review: tea decaffeinated flavor tea case get couple tea bags mug hot water hot water true hot water slightly five minutes tea flavor disappointing \n",
            "Original summary: no but no taste \n",
            "Predicted summary:  great\n",
            "\n",
            "\n",
            "Review: spice mix taste favorite restaurant use much smells perfect meat bean \n",
            "Original summary: taste at \n",
            "Predicted summary:  great\n",
            "\n",
            "\n",
            "Review: wish fat free salad dressing ounce bottle great salad dressing tastes good flavorful regular dressing \n",
            "Original summary: fat free \n",
            "Predicted summary:  great\n",
            "\n",
            "\n",
            "Review: lb bag oatmeal seemed like way much time went found uses many recipes make running high quality oatmeal much cheaper better anything found grocery store \n",
            "Original summary: great way to \n",
            "Predicted summary:  great hot\n",
            "\n",
            "\n",
            "Review: drink cups day italian french roast coffee wanted try lower acid version brand coffee smells tastes like vinegar totally better drinking water acid coffee \n",
            "Original summary: worst coffee ever \n",
            "Predicted summary:  great\n",
            "\n",
            "\n",
            "Review: kind tea good taste smell like tea feel like thing chemical \n",
            "Original summary: of tea get it \n",
            "Predicted summary:  great\n",
            "\n",
            "\n",
            "Review: love snacks whole grain organic also love fact snack cup like also noticed leave lot crumbs makes happy \n",
            "Original summary: yummy and \n",
            "Predicted summary:  great\n",
            "\n",
            "\n",
            "Review: wow admit really yummy know sugar taste small little bars calories piece perfect afternoon treat need something sweet office \n",
            "Original summary: yummy \n",
            "Predicted summary:  great\n",
            "\n",
            "\n",
            "Review: bit honey since kid seeing amazon made purchase good remember \n",
            "Original summary: just like was \n",
            "Predicted summary:  great\n",
            "\n",
            "\n",
            "Review: fantastic cocoa flavors excellent personal favorite dark chocolate received keurig christmas present cocoa end work day mixing microwave pot stove warm chocolatey goodness order product \n",
            "Original summary: great \n",
            "Predicted summary:  great\n",
            "\n",
            "\n",
            "Review: dog anything treats buying five pound bag lasts year dry easy put pocket last forever \n",
            "Original summary: yummy treats \n",
            "Predicted summary:  grove dog dog\n",
            "\n",
            "\n",
            "Review: subscription popchips arrived time damaged love fact receive great variety chips healthier time tasty satisfying way chips packed shipping perfect subscription way go course price right thank \n",
            "Original summary: treat of the \n",
            "Predicted summary:  great\n",
            "\n",
            "\n",
            "Review: allergies itching dog foods cheap buy anywhere food crazy preservatives cause health problems food works allergies dog loves food \n",
            "Original summary: great dog food dogs love it \n",
            "Predicted summary:  dog dog\n",
            "\n",
            "\n",
            "Review: life gluten allergy sometimes seem however bisquick started making product things got lot tastes like bisquick works like bisquick hey bisquick gluten free perfect pancakes enough said \n",
            "Original summary: perfect pancakes \n",
            "Predicted summary:  great\n",
            "\n",
            "\n",
            "Review: cafe find product wholesale anywhere free shipping days supplier could get small amounts product would take weeks thanks amazon \n",
            "Original summary: gluten free in \n",
            "Predicted summary:  great\n",
            "\n",
            "\n",
            "Review: found product kettle chips fabulous found amazon local stores crisp tasty without salt \n",
            "Original summary: kettle chips \n",
            "Predicted summary:  great\n",
            "\n",
            "\n",
            "Review: tried substitute sandwich could cut without ended pieces like chunks enough cream cheese ok rolls products would recommend \n",
            "Original summary: cannot them from \n",
            "Predicted summary:  great hot\n",
            "\n",
            "\n",
            "Review: received product much promised seeds grow plant great cat loves highly recommend product seller \n",
            "Original summary: great product and service \n",
            "Predicted summary:  great\n",
            "\n",
            "\n",
            "Review: gevalia far best coffee market especially organic \n",
            "Original summary: is the best \n",
            "Predicted summary:  great\n",
            "\n",
            "\n",
            "Review: chip addict far tastiest non homemade chips ever plus healthy problem cannot flavor favorite \n",
            "Original summary: yum \n",
            "Predicted summary:  great\n",
            "\n",
            "\n",
            "Review: love hot chocolate nice creamy flavor price good love single packs flavor available locally \n",
            "Original summary: yummy \n",
            "Predicted summary:  great hot\n",
            "\n",
            "\n",
            "Review: item fast exactly ordered excellent shape safe shipping came back shop thanks \n",
            "Original summary: excellent item and service \n",
            "Predicted summary:  great hot\n",
            "\n",
            "\n",
            "Review: else need know oatmeal instant expensive store brand oatmeal maybe little tastier better texture something still oatmeal mm convenient \n",
            "Original summary: it is \n",
            "Predicted summary:  great\n",
            "\n",
            "\n",
            "Review: love perfect gift love packaging great idea perfect gift \n",
            "Original summary: great gift \n",
            "Predicted summary:  great\n",
            "\n",
            "\n",
            "Review: chocolate covered espresso beans wonderful chocolate dark rich bean inside delightful blend flavors enough really give \n",
            "Original summary: these are the best \n",
            "Predicted summary:  great\n",
            "\n",
            "\n",
            "Review: tea usa know silk loose leaf oolong tea like name silk silk tongue tea warm taste makes feel wonderful well done tea \n",
            "Original summary: awesome \n",
            "Predicted summary:  great\n",
            "\n",
            "\n",
            "Review: brought bottles one carry pocket home fell love vacation couple drops trick packs flavor hot food \n",
            "Original summary: love it \n",
            "Predicted summary:  great\n",
            "\n",
            "\n",
            "Review: canned food real chunks chicken dogs love looks smells better human quality canned beef \n",
            "Original summary: for dogs dogs love it \n",
            "Predicted summary:  grove dog\n",
            "\n",
            "\n",
            "Review: good snack feel great offering month old easily pick small pieces definitely enjoys apple cinnamon taste year old loves well would definitely recommend anyone small kids \n",
            "Original summary: great healthy snack \n",
            "Predicted summary:  great\n",
            "\n",
            "\n",
            "Review: shortbread cookies delicious bought summer hard find expensive usa \n",
            "Original summary: cookies \n",
            "Predicted summary:  great\n",
            "\n",
            "\n",
            "Review: like oreo oreo got try double stuff best side note shipping maybe better \n",
            "Original summary: the \n",
            "Predicted summary:  great\n",
            "\n",
            "\n",
            "Review: purchased baby shower worked perfect small bags candy purchased want small bags would purchase larger bag \n",
            "Original summary: great \n",
            "Predicted summary:  great\n",
            "\n",
            "\n",
            "Review: area one cannot find cinnamon happy able find flavor love product \n",
            "Original summary: good \n",
            "Predicted summary:  great\n",
            "\n",
            "\n",
            "Review: makes best vinegar oil dressing ever couple rest oil good \n",
            "Original summary: best stuff ever \n",
            "Predicted summary:  great\n",
            "\n",
            "\n",
            "Review: different flavors different people everyone going like others like love coffee totally give stars enjoy coffee lot price reasonable opinion local big box grocery store \n",
            "Original summary: blend is good coffee \n",
            "Predicted summary:  great\n",
            "\n",
            "\n",
            "Review: food great dogs year old puppy soft hardly ever get sick food good especially amazon prime shipping \n",
            "Original summary: mm mm good \n",
            "Predicted summary:  grove dog\n",
            "\n",
            "\n",
            "Review: shipped nice package complain seller plant growing bigger looking bigger pot good looking plant needs minimal plant might need \n",
            "Original summary: like it \n",
            "Predicted summary:  great\n",
            "\n",
            "\n",
            "Review: bought mostly wanted peppermint hot cocoa fell love milk chocolate one peppermint pretty good well good cocoa \n",
            "Original summary: great \n",
            "Predicted summary:  great\n",
            "\n",
            "\n",
            "Review: love love green tea hard find area places internet charge big price usually get many boxes definitely order seller thanks green tea fix everyday \n",
            "Original summary: tea review \n",
            "Predicted summary:  great\n",
            "\n",
            "\n",
            "Review: cups son wanted price excellent flavor rich would recommend anyone wanting good cup instant hot cocoa \n",
            "Original summary: delicious \n",
            "Predicted summary:  great\n",
            "\n",
            "\n",
            "Review: received ingredients timely manner ingredients nicely packed fresh shipping needed meal making plenty left ingredients \n",
            "Original summary: and fresh \n",
            "Predicted summary:  great\n",
            "\n",
            "\n",
            "Review: favorite bars ever dark choc wonderful filling hard find stores thankful save \n",
            "Original summary: best bar \n",
            "Predicted summary:  great\n",
            "\n",
            "\n",
            "Review: love buying drinking workout lose vitamins helps water good love post workout also good anytime could use sweet natural drink \n",
            "Original summary: delicious \n",
            "Predicted summary:  great\n",
            "\n",
            "\n",
            "Review: addicting fantastic snack mix wonderful variety crackers blend flavors \n",
            "Original summary: wonderful blend of flavors \n",
            "Predicted summary:  great\n",
            "\n",
            "\n",
            "Review: used candy birthday party kids loved full size still cute \n",
            "Original summary: great for \n",
            "Predicted summary:  great\n",
            "\n",
            "\n",
            "Review: kettle chips taste good crispy crunchy enjoy also cut \n",
            "Original summary: kettle chips \n",
            "Predicted summary:  great\n",
            "\n",
            "\n",
            "Review: first love packaging making would problem ordered winter cold also want thank free sample delicious love \n",
            "Original summary: this item is awesome \n",
            "Predicted summary:  great\n",
            "\n",
            "\n",
            "Review: chips salty like crunch size bags variety cannot finish case due salty chips \n",
            "Original summary: too \n",
            "Predicted summary:  great\n",
            "\n",
            "\n",
            "Review: kids like cocoa perfect cannot make kids hot tastes good count bad \n",
            "Original summary: cannot \n",
            "Predicted summary:  great\n",
            "\n",
            "\n",
            "Review: ordered months ago find basically acid read ingredients main label says olive juice thing going suggest amazon take website \n",
            "Original summary: not really \n",
            "Predicted summary:  great\n",
            "\n",
            "\n",
            "Review: product helped friend able eat going college finding things eat hard send supply every month make food get sick \n",
            "Original summary: good for \n",
            "Predicted summary:  great\n",
            "\n",
            "\n",
            "Review: taste whole wheat muffins great taste good chocolate flavor texture add chopped \n",
            "Original summary: best \n",
            "Predicted summary:  great\n",
            "\n",
            "\n",
            "Review: delicious popcorn lost star use hot air popper many popping great flavor great texture tender add anything even though purchased three different flavored thanks \n",
            "Original summary: delicious popcorn \n",
            "Predicted summary:  great\n",
            "\n",
            "\n",
            "Review: bought brands try found one much less chocolate taste cafe escapes dark chocolate also thinner consistency buy \n",
            "Original summary: not as good as \n",
            "Predicted summary:  great\n",
            "\n",
            "\n",
            "Review: ordered amazon recommended go along popcorn popper got hey actually pop small kernels get thrown popper absolute waste money \n",
            "Original summary: but \n",
            "Predicted summary:  great\n",
            "\n",
            "\n",
            "Review: tried bars good although like peanut butter chocolate chip bars better bars quick easy carry snack go \n",
            "Original summary: and bars \n",
            "Predicted summary:  great\n",
            "\n",
            "\n",
            "Review: free chips see regular chip cravings remind munchos less greasy try \n",
            "Original summary: healthy and tasty \n",
            "Predicted summary:  great\n",
            "\n",
            "\n",
            "Review: though fresh moist however personally sweet think stick brand brand expensive seems taste better \n",
            "Original summary: good \n",
            "Predicted summary:  great\n",
            "\n",
            "\n",
            "Review: nice alternative apple pie love fact easy prepare also loved fact make fresh whenever needed \n",
            "Original summary: loved these \n",
            "Predicted summary:  great\n",
            "\n",
            "\n",
            "Review: bought give party favors son baseball themed birthday party huge hit adults children \n",
            "Original summary: great item \n",
            "Predicted summary:  great\n",
            "\n",
            "\n",
            "Review: coffee years ago lived glad get amazon strong full bodied easy tummy \n",
            "Original summary: delicious \n",
            "Predicted summary:  great\n",
            "\n",
            "\n",
            "Review: love strawberries chocolate locally could find dark chocolate type glad found amazon wonderful \n",
            "Original summary: much better than chocolate \n",
            "Predicted summary:  great hot\n",
            "\n",
            "\n",
            "Review: really enjoy product hard time finding affordable store found look sugar use thanks much \n",
            "Original summary: sugar in the \n",
            "Predicted summary:  great\n",
            "\n",
            "\n",
            "Review: need gluten free non dairy egg pretty use really work split great mini \n",
            "Original summary: pretty good \n",
            "Predicted summary:  great\n",
            "\n",
            "\n",
            "Review: like lot gf mixes make whole box keep fridge pop em toaster oven morning \n",
            "Original summary: best gf pancakes \n",
            "Predicted summary:  great\n",
            "\n",
            "\n",
            "Review: stuff really works middle pop water bottle set flavor fine goes easy \n",
            "Original summary: great for \n",
            "Predicted summary:  great\n",
            "\n",
            "\n",
            "Review: one perfect box inside box dented cans chowder looked like fell every single disappointed return chowder good rate star box \n",
            "Original summary: from \n",
            "Predicted summary:  great\n",
            "\n",
            "\n",
            "Review: big fan flour baked gives everything bit adds extra bit sweet baking highly recommend baking flour mixes may want add savory recipes though light sweet flavor \n",
            "Original summary: best for \n",
            "Predicted summary:  great\n",
            "\n",
            "\n",
            "Review: well packed broken cookies tasty interesting friends really enjoyed \n",
            "Original summary: very good \n",
            "Predicted summary:  great\n",
            "\n",
            "\n",
            "Review: favorite gluten free dairy free flavored chips many salt vinegar chips contain dairy nice find ones eat vinegar flavor really intense good \n",
            "Original summary: best gluten free free chips \n",
            "Predicted summary:  great hot\n",
            "\n",
            "\n",
            "Review: organic find reasonable price love amazon makes perfect affordable snack \n",
            "Original summary: perfect for little \n",
            "Predicted summary:  great\n",
            "\n",
            "\n",
            "Review: know fault packaging past prime hard flavor strong enough \n",
            "Original summary: of \n",
            "Predicted summary:  great\n",
            "\n",
            "\n",
            "Review: gluten allergies great biscuits pancakes taste much regular bisquick problem comes small size would love box larger \n",
            "Original summary: gluten free bisquick \n",
            "Predicted summary:  grove dog\n",
            "\n",
            "\n",
            "Review: cans dented way however cheaper purchasing product \n",
            "Original summary: little \n",
            "Predicted summary:  great\n",
            "\n",
            "\n",
            "Review: love cream cheese even great way enjoy caviar break \n",
            "Original summary: great tasty and on \n",
            "Predicted summary:  great\n",
            "\n",
            "\n",
            "Review: love white corn including popcorn hate expensive kernels supermarket love popcorn \n",
            "Original summary: yummy popcorn \n",
            "Predicted summary:  great\n",
            "\n",
            "\n",
            "Review: recieved product time excellent shape tastes good expectations thanks excellent service \n",
            "Original summary: grove square cups \n",
            "Predicted summary:  great\n",
            "\n",
            "\n",
            "Review: strong smooth flavor mahogany color get drinking absolutely best found favorite \n",
            "Original summary: fantastic stuff \n",
            "Predicted summary:  great\n",
            "\n",
            "\n",
            "Review: sugar raw flavor much better white sugar better something wish bags \n",
            "Original summary: it is sugar \n",
            "Predicted summary:  great\n",
            "\n",
            "\n",
            "Review: long time since eaten decided give try always left size simply enjoy every bit one serving \n",
            "Original summary: for \n",
            "Predicted summary:  great\n",
            "\n",
            "\n",
            "Review: times always find returning coffee flavor product anymore flavor coffee exceptional full rich shelf coffee ever tasted highly recommended \n",
            "Original summary: coffee \n",
            "Predicted summary:  great\n",
            "\n",
            "\n",
            "Review: bought many times good quality good taste baby love love \n",
            "Original summary: good taste baby love it \n",
            "Predicted summary:  great\n",
            "\n",
            "\n",
            "Review: good stuff like need small feel good mouth \n",
            "Original summary: beans \n",
            "Predicted summary:  great\n",
            "\n",
            "\n",
            "Review: hands absolute best salt vinegar chips buy great strong flavor left addicted certainly favorite chips highly recommend trying \n",
            "Original summary: the salt vinegar \n",
            "Predicted summary:  great hot\n",
            "\n",
            "\n",
            "Review: yum convenience expect cup flavor real hot chocolate kids love \n",
            "Original summary: easy and kids love it \n",
            "Predicted summary:  great\n",
            "\n",
            "\n",
            "Review: popchips great fresh arrived price wish bags chips bucks \n",
            "Original summary: pop chips \n",
            "Predicted summary:  great\n",
            "\n",
            "\n",
            "Review: produce extremely fresh made delicious thai soup items plenty \n",
            "Original summary: excellent \n",
            "Predicted summary:  great\n",
            "\n",
            "\n",
            "Review: got wine chocolates use part stocking stuffers yummy big hit everyone would definitely buy \n",
            "Original summary: excellent \n",
            "Predicted summary:  great\n",
            "\n",
            "\n",
            "Review: great alternative chips sure would based reviews glad bought wish would found month cannot get enough like \n",
            "Original summary: fantastic \n",
            "Predicted summary:  great\n",
            "\n",
            "\n",
            "Review: well big red fan bought first let tell price amazing mean else get type deal everyone loved course next shipment get \n",
            "Original summary: amazing \n",
            "Predicted summary:  great\n",
            "\n",
            "\n"
          ],
          "name": "stdout"
        }
      ]
    },
    {
      "cell_type": "code",
      "metadata": {
        "id": "tZ9TKffD4DXl",
        "colab_type": "code",
        "colab": {}
      },
      "source": [
        ""
      ],
      "execution_count": 0,
      "outputs": []
    }
  ]
}